{
 "cells": [
  {
   "cell_type": "code",
   "execution_count": 164,
   "metadata": {},
   "outputs": [],
   "source": [
    "import pandas as pd\n",
    "import warnings\n",
    "\n",
    "warnings.filterwarnings(\"ignore\")"
   ]
  },
  {
   "cell_type": "code",
   "execution_count": 165,
   "metadata": {},
   "outputs": [
    {
     "data": {
      "text/html": [
       "<div>\n",
       "<style scoped>\n",
       "    .dataframe tbody tr th:only-of-type {\n",
       "        vertical-align: middle;\n",
       "    }\n",
       "\n",
       "    .dataframe tbody tr th {\n",
       "        vertical-align: top;\n",
       "    }\n",
       "\n",
       "    .dataframe thead th {\n",
       "        text-align: right;\n",
       "    }\n",
       "</style>\n",
       "<table border=\"1\" class=\"dataframe\">\n",
       "  <thead>\n",
       "    <tr style=\"text-align: right;\">\n",
       "      <th></th>\n",
       "      <th>READ_DATE</th>\n",
       "      <th>KWH_EXP</th>\n",
       "    </tr>\n",
       "  </thead>\n",
       "  <tbody>\n",
       "    <tr>\n",
       "      <th>0</th>\n",
       "      <td>2019-01-01</td>\n",
       "      <td>1.704497</td>\n",
       "    </tr>\n",
       "    <tr>\n",
       "      <th>1</th>\n",
       "      <td>2019-01-02</td>\n",
       "      <td>1.804380</td>\n",
       "    </tr>\n",
       "    <tr>\n",
       "      <th>2</th>\n",
       "      <td>2019-01-03</td>\n",
       "      <td>1.606232</td>\n",
       "    </tr>\n",
       "    <tr>\n",
       "      <th>3</th>\n",
       "      <td>2019-01-04</td>\n",
       "      <td>1.220510</td>\n",
       "    </tr>\n",
       "    <tr>\n",
       "      <th>4</th>\n",
       "      <td>2019-01-05</td>\n",
       "      <td>0.980424</td>\n",
       "    </tr>\n",
       "    <tr>\n",
       "      <th>...</th>\n",
       "      <td>...</td>\n",
       "      <td>...</td>\n",
       "    </tr>\n",
       "    <tr>\n",
       "      <th>1973</th>\n",
       "      <td>2024-05-27</td>\n",
       "      <td>64.703542</td>\n",
       "    </tr>\n",
       "    <tr>\n",
       "      <th>1974</th>\n",
       "      <td>2024-05-28</td>\n",
       "      <td>63.751474</td>\n",
       "    </tr>\n",
       "    <tr>\n",
       "      <th>1975</th>\n",
       "      <td>2024-05-29</td>\n",
       "      <td>68.610622</td>\n",
       "    </tr>\n",
       "    <tr>\n",
       "      <th>1976</th>\n",
       "      <td>2024-05-30</td>\n",
       "      <td>65.846084</td>\n",
       "    </tr>\n",
       "    <tr>\n",
       "      <th>1977</th>\n",
       "      <td>2024-05-31</td>\n",
       "      <td>71.512742</td>\n",
       "    </tr>\n",
       "  </tbody>\n",
       "</table>\n",
       "<p>1978 rows × 2 columns</p>\n",
       "</div>"
      ],
      "text/plain": [
       "       READ_DATE    KWH_EXP\n",
       "0     2019-01-01   1.704497\n",
       "1     2019-01-02   1.804380\n",
       "2     2019-01-03   1.606232\n",
       "3     2019-01-04   1.220510\n",
       "4     2019-01-05   0.980424\n",
       "...          ...        ...\n",
       "1973  2024-05-27  64.703542\n",
       "1974  2024-05-28  63.751474\n",
       "1975  2024-05-29  68.610622\n",
       "1976  2024-05-30  65.846084\n",
       "1977  2024-05-31  71.512742\n",
       "\n",
       "[1978 rows x 2 columns]"
      ]
     },
     "execution_count": 165,
     "metadata": {},
     "output_type": "execute_result"
    }
   ],
   "source": [
    "df = pd.read_csv('processed/442100110323_daily.csv')\n",
    "df"
   ]
  },
  {
   "cell_type": "code",
   "execution_count": 166,
   "metadata": {},
   "outputs": [
    {
     "data": {
      "text/plain": [
       "(2008, 6)"
      ]
     },
     "execution_count": 166,
     "metadata": {},
     "output_type": "execute_result"
    }
   ],
   "source": [
    "df_weather1 = pd.read_csv('processed/weather_2019_2024_standard.csv')\n",
    "\n",
    "df_weather1.shape"
   ]
  },
  {
   "cell_type": "code",
   "execution_count": 167,
   "metadata": {},
   "outputs": [
    {
     "data": {
      "text/html": [
       "<div>\n",
       "<style scoped>\n",
       "    .dataframe tbody tr th:only-of-type {\n",
       "        vertical-align: middle;\n",
       "    }\n",
       "\n",
       "    .dataframe tbody tr th {\n",
       "        vertical-align: top;\n",
       "    }\n",
       "\n",
       "    .dataframe thead th {\n",
       "        text-align: right;\n",
       "    }\n",
       "</style>\n",
       "<table border=\"1\" class=\"dataframe\">\n",
       "  <thead>\n",
       "    <tr style=\"text-align: right;\">\n",
       "      <th></th>\n",
       "      <th>Unnamed: 0</th>\n",
       "      <th>Tanggal</th>\n",
       "      <th>Tavg</th>\n",
       "      <th>RH_avg</th>\n",
       "      <th>RR</th>\n",
       "      <th>ss</th>\n",
       "    </tr>\n",
       "  </thead>\n",
       "  <tbody>\n",
       "    <tr>\n",
       "      <th>0</th>\n",
       "      <td>0</td>\n",
       "      <td>2019-01-01</td>\n",
       "      <td>25.7</td>\n",
       "      <td>96.0</td>\n",
       "      <td>12.9</td>\n",
       "      <td>7.5</td>\n",
       "    </tr>\n",
       "    <tr>\n",
       "      <th>1</th>\n",
       "      <td>1</td>\n",
       "      <td>2019-01-02</td>\n",
       "      <td>25.9</td>\n",
       "      <td>90.0</td>\n",
       "      <td>42.7</td>\n",
       "      <td>6.7</td>\n",
       "    </tr>\n",
       "    <tr>\n",
       "      <th>2</th>\n",
       "      <td>2</td>\n",
       "      <td>2019-01-03</td>\n",
       "      <td>24.9</td>\n",
       "      <td>94.0</td>\n",
       "      <td>0.5</td>\n",
       "      <td>0.1</td>\n",
       "    </tr>\n",
       "    <tr>\n",
       "      <th>3</th>\n",
       "      <td>3</td>\n",
       "      <td>2019-01-04</td>\n",
       "      <td>25.8</td>\n",
       "      <td>88.0</td>\n",
       "      <td>34.6</td>\n",
       "      <td>0.1</td>\n",
       "    </tr>\n",
       "    <tr>\n",
       "      <th>4</th>\n",
       "      <td>4</td>\n",
       "      <td>2019-01-05</td>\n",
       "      <td>26.7</td>\n",
       "      <td>88.0</td>\n",
       "      <td>2.1</td>\n",
       "      <td>3.2</td>\n",
       "    </tr>\n",
       "    <tr>\n",
       "      <th>...</th>\n",
       "      <td>...</td>\n",
       "      <td>...</td>\n",
       "      <td>...</td>\n",
       "      <td>...</td>\n",
       "      <td>...</td>\n",
       "      <td>...</td>\n",
       "    </tr>\n",
       "    <tr>\n",
       "      <th>2003</th>\n",
       "      <td>2003</td>\n",
       "      <td>2024-06-26</td>\n",
       "      <td>27.4</td>\n",
       "      <td>76.0</td>\n",
       "      <td>0.0</td>\n",
       "      <td>8.0</td>\n",
       "    </tr>\n",
       "    <tr>\n",
       "      <th>2004</th>\n",
       "      <td>2004</td>\n",
       "      <td>2024-06-27</td>\n",
       "      <td>27.8</td>\n",
       "      <td>77.0</td>\n",
       "      <td>0.0</td>\n",
       "      <td>9.9</td>\n",
       "    </tr>\n",
       "    <tr>\n",
       "      <th>2005</th>\n",
       "      <td>2005</td>\n",
       "      <td>2024-06-28</td>\n",
       "      <td>28.4</td>\n",
       "      <td>76.0</td>\n",
       "      <td>0.0</td>\n",
       "      <td>10.8</td>\n",
       "    </tr>\n",
       "    <tr>\n",
       "      <th>2006</th>\n",
       "      <td>2006</td>\n",
       "      <td>2024-06-29</td>\n",
       "      <td>28.6</td>\n",
       "      <td>65.0</td>\n",
       "      <td>0.0</td>\n",
       "      <td>10.0</td>\n",
       "    </tr>\n",
       "    <tr>\n",
       "      <th>2007</th>\n",
       "      <td>2007</td>\n",
       "      <td>2024-06-30</td>\n",
       "      <td>28.7</td>\n",
       "      <td>66.0</td>\n",
       "      <td>0.0</td>\n",
       "      <td>8.3</td>\n",
       "    </tr>\n",
       "  </tbody>\n",
       "</table>\n",
       "<p>2008 rows × 6 columns</p>\n",
       "</div>"
      ],
      "text/plain": [
       "      Unnamed: 0     Tanggal  Tavg  RH_avg    RR    ss\n",
       "0              0  2019-01-01  25.7    96.0  12.9   7.5\n",
       "1              1  2019-01-02  25.9    90.0  42.7   6.7\n",
       "2              2  2019-01-03  24.9    94.0   0.5   0.1\n",
       "3              3  2019-01-04  25.8    88.0  34.6   0.1\n",
       "4              4  2019-01-05  26.7    88.0   2.1   3.2\n",
       "...          ...         ...   ...     ...   ...   ...\n",
       "2003        2003  2024-06-26  27.4    76.0   0.0   8.0\n",
       "2004        2004  2024-06-27  27.8    77.0   0.0   9.9\n",
       "2005        2005  2024-06-28  28.4    76.0   0.0  10.8\n",
       "2006        2006  2024-06-29  28.6    65.0   0.0  10.0\n",
       "2007        2007  2024-06-30  28.7    66.0   0.0   8.3\n",
       "\n",
       "[2008 rows x 6 columns]"
      ]
     },
     "execution_count": 167,
     "metadata": {},
     "output_type": "execute_result"
    }
   ],
   "source": [
    "df_weather1"
   ]
  },
  {
   "cell_type": "code",
   "execution_count": 168,
   "metadata": {},
   "outputs": [],
   "source": [
    "df_weather1['Tanggal'] = pd.to_datetime(df_weather1['Tanggal'])\n",
    "df['READ_DATE'] = pd.to_datetime(df['READ_DATE'])"
   ]
  },
  {
   "cell_type": "code",
   "execution_count": 169,
   "metadata": {},
   "outputs": [
    {
     "data": {
      "text/plain": [
       "READ_DATE       0\n",
       "KWH_EXP         0\n",
       "Unnamed: 0      0\n",
       "Tanggal         0\n",
       "Tavg            0\n",
       "RH_avg          0\n",
       "RR            131\n",
       "ss              0\n",
       "dtype: int64"
      ]
     },
     "execution_count": 169,
     "metadata": {},
     "output_type": "execute_result"
    }
   ],
   "source": [
    "# gabung data weather dengan data daily\n",
    "df_merge = pd.merge(df, df_weather1, left_on='READ_DATE', right_on='Tanggal', how='left')\n",
    "df_merge.isna().sum()"
   ]
  },
  {
   "cell_type": "code",
   "execution_count": 170,
   "metadata": {},
   "outputs": [
    {
     "data": {
      "text/plain": [
       "READ_DATE    0\n",
       "KWH_EXP      0\n",
       "Tavg         0\n",
       "RH_avg       0\n",
       "RR           0\n",
       "ss           0\n",
       "dtype: int64"
      ]
     },
     "execution_count": 170,
     "metadata": {},
     "output_type": "execute_result"
    }
   ],
   "source": [
    "df_merge.drop(columns=['Tanggal', 'Unnamed: 0'], inplace=True)\n",
    "df_merge.interpolate(method='linear', inplace=True)\n",
    "df_merge.isna().sum()"
   ]
  },
  {
   "cell_type": "code",
   "execution_count": null,
   "metadata": {},
   "outputs": [],
   "source": [
    "df_merge.to_csv('processed/442100110323_daily_weather_stdr.csv', index=False)"
   ]
  },
  {
   "cell_type": "code",
   "execution_count": 172,
   "metadata": {},
   "outputs": [
    {
     "name": "stdout",
     "output_type": "stream",
     "text": [
      "ADF Statistic: -2.862144\n",
      "p-value: 0.049931\n",
      "Critical Values:\n",
      "\t1%: -3.434\n",
      "\t5%: -2.863\n",
      "\t10%: -2.568\n"
     ]
    }
   ],
   "source": [
    "# ADF test\n",
    "from statsmodels.tsa.stattools import adfuller\n",
    "\n",
    "result = adfuller(df_merge['KWH_EXP'])\n",
    "print('ADF Statistic: %f' % result[0])\n",
    "print('p-value: %f' % result[1])\n",
    "print('Critical Values:')\n",
    "for key, value in result[4].items():\n",
    "    print('\\t%s: %.3f' % (key, value))\n"
   ]
  },
  {
   "cell_type": "markdown",
   "metadata": {},
   "source": [
    "p-value lebih besar dari 0.05 dan ADF Statistic lebih besar dari critical value pada tingkat signifikansi 5%. Ini berarti kita gagal menolak hipotesis nol, sehingga data kemungkinan besar tidak stasioner."
   ]
  },
  {
   "cell_type": "code",
   "execution_count": 173,
   "metadata": {},
   "outputs": [
    {
     "name": "stdout",
     "output_type": "stream",
     "text": [
      "\n",
      "KPSS Statistic: 0.115071\n",
      "p-value: 0.100000\n",
      "Critical Values:\n",
      "\t10%: 0.347\n",
      "\t5%: 0.463\n",
      "\t2.5%: 0.574\n",
      "\t1%: 0.739\n"
     ]
    }
   ],
   "source": [
    "# KPSS test\n",
    "from statsmodels.tsa.stattools import kpss\n",
    "\n",
    "result = kpss(df_merge['KWH_EXP'])\n",
    "print('\\nKPSS Statistic: %f' % result[0])\n",
    "print('p-value: %f' % result[1])\n",
    "print('Critical Values:')\n",
    "for key, value in result[3].items():\n",
    "    print('\\t%s: %.3f' % (key, value))"
   ]
  },
  {
   "cell_type": "markdown",
   "metadata": {},
   "source": [
    "KPSS Statistic lebih besar dari critical value pada semua tingkat signifikansi, dan p-value lebih kecil dari 0.05. Ini berarti kita menolak hipotesis nol, sehingga data kemungkinan besar tidak stasioner."
   ]
  },
  {
   "cell_type": "markdown",
   "metadata": {},
   "source": [
    "ADF Test menunjukkan bahwa data tidak stasioner.\n",
    "KPSS Test juga menunjukkan bahwa data tidak stasioner."
   ]
  },
  {
   "cell_type": "markdown",
   "metadata": {},
   "source": [
    "### FEATURE ENGINEERING BEFORE DIFFERENCING"
   ]
  },
  {
   "cell_type": "code",
   "execution_count": 174,
   "metadata": {},
   "outputs": [],
   "source": [
    "lags = [1, 3, 7, 28] # 1 hari 3 hari 1 minggu 1 bulan\n",
    "for lag in lags:\n",
    "    df_merge['lag_{}'.format(lag)] = df_merge['KWH_EXP'].shift(lag)\n"
   ]
  },
  {
   "cell_type": "code",
   "execution_count": 175,
   "metadata": {},
   "outputs": [],
   "source": [
    "window = [1, 3, 7, 28] # 1 hari 3 hari 1 minggu 1 bulan\n",
    "for win in window:\n",
    "    df_merge['rolling_mean_{}'.format(win)] = df['KWH_EXP'].rolling(window=win).mean()\n",
    "    df_merge['rolling_std_{}'.format(win)] = df['KWH_EXP'].rolling(window=win).std()\n",
    "    "
   ]
  },
  {
   "cell_type": "code",
   "execution_count": 176,
   "metadata": {},
   "outputs": [],
   "source": [
    "# expanding window statistics\n",
    "df_merge['expanding_mean'] = df_merge['KWH_EXP'].expanding().mean()\n",
    "df_merge['expanding_std'] = df_merge['KWH_EXP'].expanding().std()\n",
    "df_merge['expanding_max'] = df_merge['KWH_EXP'].expanding().max()\n",
    "df_merge['expanding_min'] = df_merge['KWH_EXP'].expanding().min()\n",
    "df_merge['expanding_sum'] = df_merge['KWH_EXP'].expanding().sum()\n",
    "df_merge['expanding_median'] = df_merge['KWH_EXP'].expanding().median()\n",
    "df_merge['expanding_skew'] = df_merge['KWH_EXP'].expanding().skew()\n",
    "df_merge['expanding_kurt'] = df_merge['KWH_EXP'].expanding().kurt()\n",
    "df_merge['expanding_quantile_25'] = df_merge['KWH_EXP'].expanding().quantile(0.25)\n",
    "df_merge['expanding_quantile_75'] = df_merge['KWH_EXP'].expanding().quantile(0.75)"
   ]
  },
  {
   "cell_type": "code",
   "execution_count": 177,
   "metadata": {},
   "outputs": [],
   "source": [
    "# Trend features daily average - avg\n",
    "df_merge['daily_avg'] = df_merge['KWH_EXP'].rolling(window=1).mean()\n",
    "df_merge['daily_avg'] = df_merge['daily_avg'].shift(1)\n",
    "\n",
    "# Trend features 3 days average - avg\n",
    "df_merge['3days_avg'] = df_merge['KWH_EXP'].rolling(window=3).mean()\n",
    "df_merge['3days_avg'] = df_merge['3days_avg'].shift(1)\n",
    "\n",
    "# Trend features weekly average - avg\n",
    "df_merge['weekly_avg'] = df_merge['KWH_EXP'].rolling(window=7).mean()\n",
    "df_merge['weekly_avg'] = df_merge['weekly_avg'].shift(1)\n",
    "\n",
    "# Trend features monthly average - avg\n",
    "df_merge['monthly_avg'] = df_merge['KWH_EXP'].rolling(window=28).mean()\n",
    "df_merge['monthly_avg'] = df_merge['monthly_avg'].shift(1)\n"
   ]
  },
  {
   "cell_type": "code",
   "execution_count": 178,
   "metadata": {},
   "outputs": [
    {
     "name": "stdout",
     "output_type": "stream",
     "text": [
      "<class 'pandas.core.frame.DataFrame'>\n",
      "RangeIndex: 1978 entries, 0 to 1977\n",
      "Data columns (total 32 columns):\n",
      " #   Column                 Non-Null Count  Dtype         \n",
      "---  ------                 --------------  -----         \n",
      " 0   READ_DATE              1978 non-null   datetime64[ns]\n",
      " 1   KWH_EXP                1978 non-null   float64       \n",
      " 2   Tavg                   1978 non-null   float64       \n",
      " 3   RH_avg                 1978 non-null   float64       \n",
      " 4   RR                     1978 non-null   float64       \n",
      " 5   ss                     1978 non-null   float64       \n",
      " 6   lag_1                  1977 non-null   float64       \n",
      " 7   lag_3                  1975 non-null   float64       \n",
      " 8   lag_7                  1971 non-null   float64       \n",
      " 9   lag_28                 1950 non-null   float64       \n",
      " 10  rolling_mean_1         1978 non-null   float64       \n",
      " 11  rolling_std_1          0 non-null      float64       \n",
      " 12  rolling_mean_3         1976 non-null   float64       \n",
      " 13  rolling_std_3          1976 non-null   float64       \n",
      " 14  rolling_mean_7         1972 non-null   float64       \n",
      " 15  rolling_std_7          1972 non-null   float64       \n",
      " 16  rolling_mean_28        1951 non-null   float64       \n",
      " 17  rolling_std_28         1951 non-null   float64       \n",
      " 18  expanding_mean         1978 non-null   float64       \n",
      " 19  expanding_std          1977 non-null   float64       \n",
      " 20  expanding_max          1978 non-null   float64       \n",
      " 21  expanding_min          1978 non-null   float64       \n",
      " 22  expanding_sum          1978 non-null   float64       \n",
      " 23  expanding_median       1978 non-null   float64       \n",
      " 24  expanding_skew         1976 non-null   float64       \n",
      " 25  expanding_kurt         1975 non-null   float64       \n",
      " 26  expanding_quantile_25  1978 non-null   float64       \n",
      " 27  expanding_quantile_75  1978 non-null   float64       \n",
      " 28  daily_avg              1977 non-null   float64       \n",
      " 29  3days_avg              1975 non-null   float64       \n",
      " 30  weekly_avg             1971 non-null   float64       \n",
      " 31  monthly_avg            1950 non-null   float64       \n",
      "dtypes: datetime64[ns](1), float64(31)\n",
      "memory usage: 494.6 KB\n"
     ]
    }
   ],
   "source": [
    "df_merge.info()"
   ]
  },
  {
   "cell_type": "code",
   "execution_count": 179,
   "metadata": {},
   "outputs": [
    {
     "data": {
      "text/plain": [
       "Index(['READ_DATE', 'KWH_EXP', 'Tavg', 'RH_avg', 'RR', 'ss', 'lag_1', 'lag_3',\n",
       "       'lag_7', 'lag_28', 'rolling_mean_1', 'rolling_std_1', 'rolling_mean_3',\n",
       "       'rolling_std_3', 'rolling_mean_7', 'rolling_std_7', 'rolling_mean_28',\n",
       "       'rolling_std_28', 'expanding_mean', 'expanding_std', 'expanding_max',\n",
       "       'expanding_min', 'expanding_sum', 'expanding_median', 'expanding_skew',\n",
       "       'expanding_kurt', 'expanding_quantile_25', 'expanding_quantile_75',\n",
       "       'daily_avg', '3days_avg', 'weekly_avg', 'monthly_avg'],\n",
       "      dtype='object')"
      ]
     },
     "execution_count": 179,
     "metadata": {},
     "output_type": "execute_result"
    }
   ],
   "source": [
    "df_merge.columns"
   ]
  },
  {
   "cell_type": "code",
   "execution_count": 180,
   "metadata": {},
   "outputs": [],
   "source": [
    "df_merge.drop('rolling_std_1', inplace=True, axis=1)"
   ]
  },
  {
   "cell_type": "code",
   "execution_count": null,
   "metadata": {},
   "outputs": [],
   "source": [
    "df_merge['READ_DATE'] = pd.to_datetime(df_merge['READ_DATE'])\n",
    "df_merge.set_index('READ_DATE', inplace=True)"
   ]
  },
  {
   "cell_type": "code",
   "execution_count": 182,
   "metadata": {},
   "outputs": [],
   "source": [
    "# Daily features\n",
    "df_merge['day'] = df_merge.index.day\n",
    "df_merge['month'] = df_merge.index.month\n",
    "df_merge['quarter'] = df_merge.index.quarter\n",
    "df_merge['year'] = df_merge.index.year\n",
    "df_merge['dayofweek'] = df_merge.index.dayofweek\n",
    "df_merge['dayofyear'] = df_merge.index.dayofyear\n",
    "df_merge['weekofyear'] = df_merge.index.isocalendar().week\n",
    "df_merge['is_month_start'] = df_merge.index.is_month_start\n",
    "df_merge['is_month_end'] = df_merge.index.is_month_end\n",
    "def determine_season(month):\n",
    "    if month in [11, 12, 1, 2, 3]:\n",
    "        return 0\n",
    "    elif month in [4, 5, 6, 7, 8, 9, 10]:\n",
    "        return 1\n",
    "df_merge['season'] = df_merge['month'].apply(determine_season)\n",
    "df_merge['is_weekend'] = df_merge['dayofweek'].apply(lambda x: 1 if x in [5, 6] else 0)\n",
    "df_merge['is_weekday'] = df_merge['dayofweek'].apply(lambda x: 1 if x not in [5, 6] else 0)"
   ]
  },
  {
   "cell_type": "code",
   "execution_count": 183,
   "metadata": {},
   "outputs": [],
   "source": [
    "# Cyclical Features\n",
    "import numpy as np\n",
    "df_merge['day_sin'] = np.sin(2 * np.pi * df_merge['day']/31)\n",
    "df_merge['day_cos'] = np.cos(2 * np.pi * df_merge['day']/31)\n",
    "df_merge['month_sin'] = np.sin(2 * np.pi * df_merge['month']/12)\n",
    "df_merge['month_cos'] = np.cos(2 * np.pi * df_merge['month']/12)\n",
    "df_merge['quarter_sin'] = np.sin(2 * np.pi * df_merge['quarter']/4)\n",
    "df_merge['quarter_cos'] = np.cos(2 * np.pi * df_merge['quarter']/4)\n",
    "df_merge['season_sin'] = np.sin(2 * np.pi * df_merge['season']/2)\n",
    "df_merge['season_cos'] = np.cos(2 * np.pi * df_merge['season']/2)\n",
    "df_merge['dayofweek_sin'] = np.sin(2 * np.pi * df_merge['dayofweek']/6)\n",
    "df_merge['dayofweek_cos'] = np.cos(2 * np.pi * df_merge['dayofweek']/6)\n",
    "df_merge['weekofyear_sin'] = np.sin(2 * np.pi * df_merge['weekofyear']/52)\n",
    "df_merge['weekofyear_cos'] = np.cos(2 * np.pi * df_merge['weekofyear']/52)\n",
    "df_merge['dayofyear_sin'] = np.sin(2 * np.pi * df_merge['dayofyear']/366)\n",
    "df_merge['dayofyear_cos'] = np.cos(2 * np.pi * df_merge['dayofyear']/366)\n"
   ]
  },
  {
   "cell_type": "code",
   "execution_count": 184,
   "metadata": {},
   "outputs": [],
   "source": [
    "# decomposition\n",
    "from statsmodels.tsa.seasonal import seasonal_decompose\n",
    "result = seasonal_decompose(df_merge['KWH_EXP'], model='additive', period=30) \n",
    "df_merge['trend'] = result.trend\n",
    "df_merge['seasonal'] = result.seasonal\n",
    "df_merge['residual'] = result.resid\n"
   ]
  },
  {
   "cell_type": "code",
   "execution_count": 185,
   "metadata": {},
   "outputs": [],
   "source": [
    "df_merge['trend'].fillna(df_merge['trend'].median(), inplace=True)\n",
    "df_merge['residual'].fillna(df_merge['residual'].mean(), inplace=True)\n",
    "df_merge.fillna(0, inplace=True)"
   ]
  },
  {
   "cell_type": "code",
   "execution_count": 186,
   "metadata": {},
   "outputs": [
    {
     "data": {
      "text/plain": [
       "KWH_EXP                  0\n",
       "Tavg                     0\n",
       "RH_avg                   0\n",
       "RR                       0\n",
       "ss                       0\n",
       "lag_1                    0\n",
       "lag_3                    0\n",
       "lag_7                    0\n",
       "lag_28                   0\n",
       "rolling_mean_1           0\n",
       "rolling_mean_3           0\n",
       "rolling_std_3            0\n",
       "rolling_mean_7           0\n",
       "rolling_std_7            0\n",
       "rolling_mean_28          0\n",
       "rolling_std_28           0\n",
       "expanding_mean           0\n",
       "expanding_std            0\n",
       "expanding_max            0\n",
       "expanding_min            0\n",
       "expanding_sum            0\n",
       "expanding_median         0\n",
       "expanding_skew           0\n",
       "expanding_kurt           0\n",
       "expanding_quantile_25    0\n",
       "expanding_quantile_75    0\n",
       "daily_avg                0\n",
       "3days_avg                0\n",
       "weekly_avg               0\n",
       "monthly_avg              0\n",
       "day                      0\n",
       "month                    0\n",
       "quarter                  0\n",
       "year                     0\n",
       "dayofweek                0\n",
       "dayofyear                0\n",
       "weekofyear               0\n",
       "is_month_start           0\n",
       "is_month_end             0\n",
       "season                   0\n",
       "is_weekend               0\n",
       "is_weekday               0\n",
       "day_sin                  0\n",
       "day_cos                  0\n",
       "month_sin                0\n",
       "month_cos                0\n",
       "quarter_sin              0\n",
       "quarter_cos              0\n",
       "season_sin               0\n",
       "season_cos               0\n",
       "dayofweek_sin            0\n",
       "dayofweek_cos            0\n",
       "weekofyear_sin           0\n",
       "weekofyear_cos           0\n",
       "dayofyear_sin            0\n",
       "dayofyear_cos            0\n",
       "trend                    0\n",
       "seasonal                 0\n",
       "residual                 0\n",
       "dtype: int64"
      ]
     },
     "execution_count": 186,
     "metadata": {},
     "output_type": "execute_result"
    }
   ],
   "source": [
    "df_merge.isna().sum()"
   ]
  },
  {
   "cell_type": "code",
   "execution_count": 187,
   "metadata": {},
   "outputs": [],
   "source": [
    "df_merge.to_csv('processed/442100110323_daily_weather_temp.csv')"
   ]
  },
  {
   "cell_type": "markdown",
   "metadata": {},
   "source": [
    "### FEATURE ENGINEERING AFTER DIFFERENCING"
   ]
  },
  {
   "cell_type": "code",
   "execution_count": 204,
   "metadata": {},
   "outputs": [
    {
     "data": {
      "text/plain": [
       "<Axes: >"
      ]
     },
     "execution_count": 204,
     "metadata": {},
     "output_type": "execute_result"
    },
    {
     "data": {
      "image/png": "[encoded data removed]",
      "text/plain": [
       "<Figure size 640x480 with 1 Axes>"
      ]
     },
     "metadata": {},
     "output_type": "display_data"
    }
   ],
   "source": [
    "df_merge = pd.read_csv('processed/442100110323_daily_weather_stdr.csv')\n",
    "df_merge.plot()"
   ]
  },
  {
   "cell_type": "code",
   "execution_count": 205,
   "metadata": {},
   "outputs": [
    {
     "data": {
      "text/plain": [
       "<Axes: >"
      ]
     },
     "execution_count": 205,
     "metadata": {},
     "output_type": "execute_result"
    },
    {
     "data": {
      "image/png": "[encoded data removed]",
      "text/plain": [
       "<Figure size 640x480 with 1 Axes>"
      ]
     },
     "metadata": {},
     "output_type": "display_data"
    }
   ],
   "source": [
    "# differencing\n",
    "df_merge['KWH_EXP'] = df_merge['KWH_EXP'].diff()\n",
    "df_merge['KWH_EXP'].fillna(df_merge['KWH_EXP'].mean(), inplace=True)\n",
    "df_merge['KWH_EXP'].plot()"
   ]
  },
  {
   "cell_type": "code",
   "execution_count": 206,
   "metadata": {},
   "outputs": [],
   "source": [
    "lags = [1, 3, 7, 28] # 1 hari 3 hari 1 minggu 1 bulan\n",
    "for lag in lags:\n",
    "    df_merge['lag_{}'.format(lag)] = df_merge['KWH_EXP'].shift(lag)\n"
   ]
  },
  {
   "cell_type": "code",
   "execution_count": 207,
   "metadata": {},
   "outputs": [],
   "source": [
    "window = [1, 3, 7, 28] # 1 hari 3 hari 1 minggu 1 bulan\n",
    "for win in window:\n",
    "    df_merge['rolling_mean_{}'.format(win)] = df['KWH_EXP'].rolling(window=win).mean()\n",
    "    df_merge['rolling_std_{}'.format(win)] = df['KWH_EXP'].rolling(window=win).std()\n",
    "    "
   ]
  },
  {
   "cell_type": "code",
   "execution_count": 208,
   "metadata": {},
   "outputs": [],
   "source": [
    "# expanding window statistics\n",
    "df_merge['expanding_mean'] = df_merge['KWH_EXP'].expanding().mean()\n",
    "df_merge['expanding_std'] = df_merge['KWH_EXP'].expanding().std()\n",
    "df_merge['expanding_max'] = df_merge['KWH_EXP'].expanding().max()\n",
    "df_merge['expanding_min'] = df_merge['KWH_EXP'].expanding().min()\n",
    "df_merge['expanding_sum'] = df_merge['KWH_EXP'].expanding().sum()\n",
    "df_merge['expanding_median'] = df_merge['KWH_EXP'].expanding().median()\n",
    "df_merge['expanding_skew'] = df_merge['KWH_EXP'].expanding().skew()\n",
    "df_merge['expanding_kurt'] = df_merge['KWH_EXP'].expanding().kurt()\n",
    "df_merge['expanding_quantile_25'] = df_merge['KWH_EXP'].expanding().quantile(0.25)\n",
    "df_merge['expanding_quantile_75'] = df_merge['KWH_EXP'].expanding().quantile(0.75)"
   ]
  },
  {
   "cell_type": "code",
   "execution_count": 209,
   "metadata": {},
   "outputs": [],
   "source": [
    "# Trend features daily average - avg\n",
    "df_merge['daily_avg'] = df_merge['KWH_EXP'].rolling(window=1).mean()\n",
    "df_merge['daily_avg'] = df_merge['daily_avg'].shift(1)\n",
    "\n",
    "# Trend features 3 days average - avg\n",
    "df_merge['3days_avg'] = df_merge['KWH_EXP'].rolling(window=3).mean()\n",
    "df_merge['3days_avg'] = df_merge['3days_avg'].shift(1)\n",
    "\n",
    "# Trend features weekly average - avg\n",
    "df_merge['weekly_avg'] = df_merge['KWH_EXP'].rolling(window=7).mean()\n",
    "df_merge['weekly_avg'] = df_merge['weekly_avg'].shift(1)\n",
    "\n",
    "# Trend features monthly average - avg\n",
    "df_merge['monthly_avg'] = df_merge['KWH_EXP'].rolling(window=28).mean()\n",
    "df_merge['monthly_avg'] = df_merge['monthly_avg'].shift(1)\n"
   ]
  },
  {
   "cell_type": "code",
   "execution_count": 210,
   "metadata": {},
   "outputs": [
    {
     "name": "stdout",
     "output_type": "stream",
     "text": [
      "<class 'pandas.core.frame.DataFrame'>\n",
      "RangeIndex: 1978 entries, 0 to 1977\n",
      "Data columns (total 32 columns):\n",
      " #   Column                 Non-Null Count  Dtype  \n",
      "---  ------                 --------------  -----  \n",
      " 0   READ_DATE              1978 non-null   object \n",
      " 1   KWH_EXP                1978 non-null   float64\n",
      " 2   Tavg                   1978 non-null   float64\n",
      " 3   RH_avg                 1978 non-null   float64\n",
      " 4   RR                     1978 non-null   float64\n",
      " 5   ss                     1978 non-null   float64\n",
      " 6   lag_1                  1977 non-null   float64\n",
      " 7   lag_3                  1975 non-null   float64\n",
      " 8   lag_7                  1971 non-null   float64\n",
      " 9   lag_28                 1950 non-null   float64\n",
      " 10  rolling_mean_1         1978 non-null   float64\n",
      " 11  rolling_std_1          0 non-null      float64\n",
      " 12  rolling_mean_3         1976 non-null   float64\n",
      " 13  rolling_std_3          1976 non-null   float64\n",
      " 14  rolling_mean_7         1972 non-null   float64\n",
      " 15  rolling_std_7          1972 non-null   float64\n",
      " 16  rolling_mean_28        1951 non-null   float64\n",
      " 17  rolling_std_28         1951 non-null   float64\n",
      " 18  expanding_mean         1978 non-null   float64\n",
      " 19  expanding_std          1977 non-null   float64\n",
      " 20  expanding_max          1978 non-null   float64\n",
      " 21  expanding_min          1978 non-null   float64\n",
      " 22  expanding_sum          1978 non-null   float64\n",
      " 23  expanding_median       1978 non-null   float64\n",
      " 24  expanding_skew         1976 non-null   float64\n",
      " 25  expanding_kurt         1975 non-null   float64\n",
      " 26  expanding_quantile_25  1978 non-null   float64\n",
      " 27  expanding_quantile_75  1978 non-null   float64\n",
      " 28  daily_avg              1977 non-null   float64\n",
      " 29  3days_avg              1975 non-null   float64\n",
      " 30  weekly_avg             1971 non-null   float64\n",
      " 31  monthly_avg            1950 non-null   float64\n",
      "dtypes: float64(31), object(1)\n",
      "memory usage: 494.6+ KB\n"
     ]
    }
   ],
   "source": [
    "df_merge.info()"
   ]
  },
  {
   "cell_type": "code",
   "execution_count": 211,
   "metadata": {},
   "outputs": [],
   "source": [
    "df_merge.drop('rolling_std_1', inplace=True, axis=1)"
   ]
  },
  {
   "cell_type": "code",
   "execution_count": 212,
   "metadata": {},
   "outputs": [],
   "source": [
    "df_merge['READ_DATE'] = pd.to_datetime(df_merge['READ_DATE'])\n",
    "df_merge.set_index('READ_DATE', inplace=True)"
   ]
  },
  {
   "cell_type": "code",
   "execution_count": 213,
   "metadata": {},
   "outputs": [],
   "source": [
    "# Daily features\n",
    "df_merge['day'] = df_merge.index.day\n",
    "df_merge['month'] = df_merge.index.month\n",
    "df_merge['quarter'] = df_merge.index.quarter\n",
    "df_merge['year'] = df_merge.index.year\n",
    "df_merge['dayofweek'] = df_merge.index.dayofweek\n",
    "df_merge['dayofyear'] = df_merge.index.dayofyear\n",
    "df_merge['weekofyear'] = df_merge.index.isocalendar().week\n",
    "df_merge['is_month_start'] = df_merge.index.is_month_start\n",
    "df_merge['is_month_end'] = df_merge.index.is_month_end\n",
    "def determine_season(month):\n",
    "    if month in [11, 12, 1, 2, 3]:\n",
    "        return 0\n",
    "    elif month in [4, 5, 6, 7, 8, 9, 10]:\n",
    "        return 1\n",
    "df_merge['season'] = df_merge['month'].apply(determine_season)\n",
    "df_merge['is_weekend'] = df_merge['dayofweek'].apply(lambda x: 1 if x in [5, 6] else 0)\n",
    "df_merge['is_weekday'] = df_merge['dayofweek'].apply(lambda x: 1 if x not in [5, 6] else 0)"
   ]
  },
  {
   "cell_type": "code",
   "execution_count": 214,
   "metadata": {},
   "outputs": [],
   "source": [
    "# Cyclical Features\n",
    "import numpy as np\n",
    "df_merge['day_sin'] = np.sin(2 * np.pi * df_merge['day']/31)\n",
    "df_merge['day_cos'] = np.cos(2 * np.pi * df_merge['day']/31)\n",
    "df_merge['month_sin'] = np.sin(2 * np.pi * df_merge['month']/12)\n",
    "df_merge['month_cos'] = np.cos(2 * np.pi * df_merge['month']/12)\n",
    "df_merge['quarter_sin'] = np.sin(2 * np.pi * df_merge['quarter']/4)\n",
    "df_merge['quarter_cos'] = np.cos(2 * np.pi * df_merge['quarter']/4)\n",
    "df_merge['season_sin'] = np.sin(2 * np.pi * df_merge['season']/2)\n",
    "df_merge['season_cos'] = np.cos(2 * np.pi * df_merge['season']/2)\n",
    "df_merge['dayofweek_sin'] = np.sin(2 * np.pi * df_merge['dayofweek']/6)\n",
    "df_merge['dayofweek_cos'] = np.cos(2 * np.pi * df_merge['dayofweek']/6)\n",
    "df_merge['weekofyear_sin'] = np.sin(2 * np.pi * df_merge['weekofyear']/52)\n",
    "df_merge['weekofyear_cos'] = np.cos(2 * np.pi * df_merge['weekofyear']/52)\n",
    "df_merge['dayofyear_sin'] = np.sin(2 * np.pi * df_merge['dayofyear']/366)\n",
    "df_merge['dayofyear_cos'] = np.cos(2 * np.pi * df_merge['dayofyear']/366)\n"
   ]
  },
  {
   "cell_type": "code",
   "execution_count": 215,
   "metadata": {},
   "outputs": [],
   "source": [
    "# decomposition\n",
    "from statsmodels.tsa.seasonal import seasonal_decompose\n",
    "result = seasonal_decompose(df_merge['KWH_EXP'], model='additive', period=30) \n",
    "df_merge['trend'] = result.trend\n",
    "df_merge['seasonal'] = result.seasonal\n",
    "df_merge['residual'] = result.resid\n"
   ]
  },
  {
   "cell_type": "code",
   "execution_count": 216,
   "metadata": {},
   "outputs": [],
   "source": [
    "df_merge['trend'].fillna(df_merge['trend'].median(), inplace=True)\n",
    "df_merge['residual'].fillna(df_merge['residual'].mean(), inplace=True)\n",
    "df_merge.fillna(0, inplace=True)"
   ]
  },
  {
   "cell_type": "code",
   "execution_count": 217,
   "metadata": {},
   "outputs": [
    {
     "data": {
      "text/plain": [
       "KWH_EXP                  0\n",
       "Tavg                     0\n",
       "RH_avg                   0\n",
       "RR                       0\n",
       "ss                       0\n",
       "lag_1                    0\n",
       "lag_3                    0\n",
       "lag_7                    0\n",
       "lag_28                   0\n",
       "rolling_mean_1           0\n",
       "rolling_mean_3           0\n",
       "rolling_std_3            0\n",
       "rolling_mean_7           0\n",
       "rolling_std_7            0\n",
       "rolling_mean_28          0\n",
       "rolling_std_28           0\n",
       "expanding_mean           0\n",
       "expanding_std            0\n",
       "expanding_max            0\n",
       "expanding_min            0\n",
       "expanding_sum            0\n",
       "expanding_median         0\n",
       "expanding_skew           0\n",
       "expanding_kurt           0\n",
       "expanding_quantile_25    0\n",
       "expanding_quantile_75    0\n",
       "daily_avg                0\n",
       "3days_avg                0\n",
       "weekly_avg               0\n",
       "monthly_avg              0\n",
       "day                      0\n",
       "month                    0\n",
       "quarter                  0\n",
       "year                     0\n",
       "dayofweek                0\n",
       "dayofyear                0\n",
       "weekofyear               0\n",
       "is_month_start           0\n",
       "is_month_end             0\n",
       "season                   0\n",
       "is_weekend               0\n",
       "is_weekday               0\n",
       "day_sin                  0\n",
       "day_cos                  0\n",
       "month_sin                0\n",
       "month_cos                0\n",
       "quarter_sin              0\n",
       "quarter_cos              0\n",
       "season_sin               0\n",
       "season_cos               0\n",
       "dayofweek_sin            0\n",
       "dayofweek_cos            0\n",
       "weekofyear_sin           0\n",
       "weekofyear_cos           0\n",
       "dayofyear_sin            0\n",
       "dayofyear_cos            0\n",
       "trend                    0\n",
       "seasonal                 0\n",
       "residual                 0\n",
       "dtype: int64"
      ]
     },
     "execution_count": 217,
     "metadata": {},
     "output_type": "execute_result"
    }
   ],
   "source": [
    "df_merge.isna().sum()"
   ]
  },
  {
   "cell_type": "code",
   "execution_count": 218,
   "metadata": {},
   "outputs": [],
   "source": [
    "df_merge.to_csv('processed/442100110323_daily_weather_stationary_temp.csv')"
   ]
  }
 ],
 "metadata": {
  "kernelspec": {
   "display_name": "pbl",
   "language": "python",
   "name": "python3"
  },
  "language_info": {
   "codemirror_mode": {
    "name": "ipython",
    "version": 3
   },
   "file_extension": ".py",
   "mimetype": "text/x-python",
   "name": "python",
   "nbconvert_exporter": "python",
   "pygments_lexer": "ipython3",
   "version": "3.12.5"
  }
 },
 "nbformat": 4,
 "nbformat_minor": 2
}
