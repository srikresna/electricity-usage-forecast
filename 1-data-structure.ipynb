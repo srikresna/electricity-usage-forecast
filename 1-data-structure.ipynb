{
 "cells": [
  {
   "cell_type": "code",
   "execution_count": 1,
   "metadata": {},
   "outputs": [],
   "source": [
    "import pandas as pd"
   ]
  },
  {
   "cell_type": "code",
   "execution_count": 2,
   "metadata": {},
   "outputs": [],
   "source": [
    "# read time series data\n",
    "df_1 = pd.read_csv('raw/442100110323-2.csv')\n",
    "df_2 = pd.read_csv('raw/442400146024-2.csv')\n",
    "df_3 = pd.read_csv('raw/442300170322-2.csv')\n",
    "df_4 = pd.read_csv('raw/442300169800-2.csv')\n",
    "df_5 = pd.read_csv('raw/442100118673-2.csv')\n",
    "df_6 = pd.read_excel('raw/data cuaca.xlsx')"
   ]
  },
  {
   "cell_type": "markdown",
   "metadata": {},
   "source": [
    "### Missing value  "
   ]
  },
  {
   "cell_type": "code",
   "execution_count": 3,
   "metadata": {},
   "outputs": [
    {
     "name": "stdout",
     "output_type": "stream",
     "text": [
      "Jumlah fitur yang memiliki missing data: 51 dari 74\n",
      "CURRENT_N               0.065598\n",
      "POWER_FACTOR_L1         0.065598\n",
      "POWER_FACTOR_L2         0.065598\n",
      "POWER_FACTOR_L3         0.065598\n",
      "ACTIVE_POWER_L1         0.065598\n",
      "ACTIVE_POWER_L2         0.065598\n",
      "ACTIVE_POWER_L3         0.065598\n",
      "REACTIVE_POWER_L1       0.065598\n",
      "REACTIVE_POWER_L2       0.065598\n",
      "REACTIVE_POWER_L3       0.065598\n",
      "APPARENT_POWER_L1       0.065598\n",
      "APPARENT_POWER_L2       0.065598\n",
      "APPARENT_POWER_L3       0.065598\n",
      "APPARENT_POWER_TOTAL    0.065598\n",
      "KWH_EXPORT_L1           0.065598\n",
      "KWH_EXPORT_L2           0.065598\n",
      "KWH_EXPORT_L3           0.065598\n",
      "KWH_IMPORT_L1           0.065598\n",
      "KWH_IMPORT_L2           0.065598\n",
      "KWH_IMPORT_L3           0.065598\n",
      "KVARH_EXPORT_L1         0.065598\n",
      "KVARH_EXPORT_L2         0.065598\n",
      "KVARH_EXPORT_L3         0.065598\n",
      "KVARH_IMPORT_L1         0.065598\n",
      "KVARH_IMPORT_L2         0.065598\n",
      "KVARH_IMPORT_L3         0.065598\n",
      "KVAH_EXPORT_L1          0.065598\n",
      "KVAH_EXPORT_L2          0.065598\n",
      "KVAH_EXPORT_L3          0.065598\n",
      "KVAH_EXPORT_TOTAL       0.065598\n",
      "KVAH_IMPORT_L1          0.065598\n",
      "KVAH_IMPORT_L2          0.065598\n",
      "KVAH_IMPORT_L3          0.065598\n",
      "KVAH_IMPORT_TOTAL       0.065598\n",
      "FREQUENCY               1.000000\n",
      "THD_VOLTAGE_L1          0.065598\n",
      "THD_VOLTAGE_L2          0.065598\n",
      "THD_VOLTAGE_L3          0.065598\n",
      "THD_VOLTAGE_TOTAL       0.065598\n",
      "THD_CURRENT_L1          0.065598\n",
      "THD_CURRENT_L2          0.065598\n",
      "THD_CURRENT_L3          0.065598\n",
      "THD_CURRENT_TOTAL       0.065598\n",
      "TDD_L1                  0.065598\n",
      "TDD_L2                  0.065598\n",
      "TDD_L3                  0.065598\n",
      "TDD_TOTAL               0.065598\n",
      "UPDATE_BY               1.000000\n",
      "UPDATE_DATE             1.000000\n",
      "SUSPECT                 0.998194\n",
      "PROCESS_ID              0.001084\n",
      "dtype: float64\n"
     ]
    }
   ],
   "source": [
    "missing_data = df_1.isnull().sum()\n",
    "missing_data = missing_data[missing_data > 0]\n",
    "print('Jumlah fitur yang memiliki missing data:', len(missing_data), 'dari', len(df_1.columns))\n",
    "print(missing_data / len(df_1))"
   ]
  },
  {
   "cell_type": "code",
   "execution_count": 4,
   "metadata": {},
   "outputs": [
    {
     "name": "stdout",
     "output_type": "stream",
     "text": [
      "Jumlah fitur yang memiliki missing data: 51 dari 74\n",
      "CURRENT_N               0.096598\n",
      "POWER_FACTOR_L1         0.096598\n",
      "POWER_FACTOR_L2         0.096598\n",
      "POWER_FACTOR_L3         0.096598\n",
      "ACTIVE_POWER_L1         0.096598\n",
      "ACTIVE_POWER_L2         0.096598\n",
      "ACTIVE_POWER_L3         0.096598\n",
      "REACTIVE_POWER_L1       0.096598\n",
      "REACTIVE_POWER_L2       0.096598\n",
      "REACTIVE_POWER_L3       0.096598\n",
      "APPARENT_POWER_L1       0.096598\n",
      "APPARENT_POWER_L2       0.096598\n",
      "APPARENT_POWER_L3       0.096598\n",
      "APPARENT_POWER_TOTAL    0.096598\n",
      "KWH_EXPORT_L1           0.096598\n",
      "KWH_EXPORT_L2           0.096598\n",
      "KWH_EXPORT_L3           0.096598\n",
      "KWH_IMPORT_L1           0.096598\n",
      "KWH_IMPORT_L2           0.096598\n",
      "KWH_IMPORT_L3           0.096598\n",
      "KVARH_EXPORT_L1         0.096598\n",
      "KVARH_EXPORT_L2         0.096598\n",
      "KVARH_EXPORT_L3         0.096598\n",
      "KVARH_IMPORT_L1         0.096598\n",
      "KVARH_IMPORT_L2         0.096598\n",
      "KVARH_IMPORT_L3         0.096598\n",
      "KVAH_EXPORT_L1          0.096598\n",
      "KVAH_EXPORT_L2          0.096598\n",
      "KVAH_EXPORT_L3          0.096598\n",
      "KVAH_EXPORT_TOTAL       0.096598\n",
      "KVAH_IMPORT_L1          0.096598\n",
      "KVAH_IMPORT_L2          0.096598\n",
      "KVAH_IMPORT_L3          0.096598\n",
      "KVAH_IMPORT_TOTAL       0.096598\n",
      "FREQUENCY               1.000000\n",
      "THD_VOLTAGE_L1          0.096598\n",
      "THD_VOLTAGE_L2          0.096598\n",
      "THD_VOLTAGE_L3          0.096598\n",
      "THD_VOLTAGE_TOTAL       0.096598\n",
      "THD_CURRENT_L1          0.096598\n",
      "THD_CURRENT_L2          0.096598\n",
      "THD_CURRENT_L3          0.096598\n",
      "THD_CURRENT_TOTAL       0.096598\n",
      "TDD_L1                  0.096598\n",
      "TDD_L2                  0.096598\n",
      "TDD_L3                  0.096598\n",
      "TDD_TOTAL               0.096598\n",
      "UPDATE_BY               1.000000\n",
      "UPDATE_DATE             1.000000\n",
      "SUSPECT                 1.000000\n",
      "PROCESS_ID              0.000610\n",
      "dtype: float64\n"
     ]
    }
   ],
   "source": [
    "missing_data = df_2.isnull().sum()\n",
    "missing_data = missing_data[missing_data > 0]\n",
    "print('Jumlah fitur yang memiliki missing data:', len(missing_data), 'dari', len(df_2.columns))\n",
    "print(missing_data / len(df_2))\n"
   ]
  },
  {
   "cell_type": "code",
   "execution_count": 5,
   "metadata": {},
   "outputs": [
    {
     "name": "stdout",
     "output_type": "stream",
     "text": [
      "Jumlah fitur yang memiliki missing data: 51 dari 74\n",
      "CURRENT_N               0.058300\n",
      "POWER_FACTOR_L1         0.058300\n",
      "POWER_FACTOR_L2         0.058300\n",
      "POWER_FACTOR_L3         0.058300\n",
      "ACTIVE_POWER_L1         0.058300\n",
      "ACTIVE_POWER_L2         0.058300\n",
      "ACTIVE_POWER_L3         0.058300\n",
      "REACTIVE_POWER_L1       0.058300\n",
      "REACTIVE_POWER_L2       0.058300\n",
      "REACTIVE_POWER_L3       0.058300\n",
      "APPARENT_POWER_L1       0.058300\n",
      "APPARENT_POWER_L2       0.058300\n",
      "APPARENT_POWER_L3       0.058300\n",
      "APPARENT_POWER_TOTAL    0.058300\n",
      "KWH_EXPORT_L1           0.058300\n",
      "KWH_EXPORT_L2           0.058300\n",
      "KWH_EXPORT_L3           0.058300\n",
      "KWH_IMPORT_L1           0.058300\n",
      "KWH_IMPORT_L2           0.058300\n",
      "KWH_IMPORT_L3           0.058300\n",
      "KVARH_EXPORT_L1         0.058300\n",
      "KVARH_EXPORT_L2         0.058300\n",
      "KVARH_EXPORT_L3         0.058300\n",
      "KVARH_IMPORT_L1         0.058300\n",
      "KVARH_IMPORT_L2         0.058300\n",
      "KVARH_IMPORT_L3         0.058300\n",
      "KVAH_EXPORT_L1          0.058300\n",
      "KVAH_EXPORT_L2          0.058300\n",
      "KVAH_EXPORT_L3          0.058300\n",
      "KVAH_EXPORT_TOTAL       0.058300\n",
      "KVAH_IMPORT_L1          0.058300\n",
      "KVAH_IMPORT_L2          0.058300\n",
      "KVAH_IMPORT_L3          0.058300\n",
      "KVAH_IMPORT_TOTAL       0.058300\n",
      "FREQUENCY               1.000000\n",
      "THD_VOLTAGE_L1          0.058300\n",
      "THD_VOLTAGE_L2          0.058300\n",
      "THD_VOLTAGE_L3          0.058300\n",
      "THD_VOLTAGE_TOTAL       0.058300\n",
      "THD_CURRENT_L1          0.058300\n",
      "THD_CURRENT_L2          0.058300\n",
      "THD_CURRENT_L3          0.058300\n",
      "THD_CURRENT_TOTAL       0.058300\n",
      "TDD_L1                  0.058300\n",
      "TDD_L2                  0.058300\n",
      "TDD_L3                  0.058300\n",
      "TDD_TOTAL               0.058300\n",
      "UPDATE_BY               1.000000\n",
      "UPDATE_DATE             1.000000\n",
      "SUSPECT                 0.999616\n",
      "PROCESS_ID              0.001101\n",
      "dtype: float64\n"
     ]
    }
   ],
   "source": [
    "missing_data = df_3.isnull().sum()\n",
    "missing_data = missing_data[missing_data > 0]\n",
    "print('Jumlah fitur yang memiliki missing data:', len(missing_data), 'dari', len(df_3.columns))\n",
    "print(missing_data / len(df_3))\n"
   ]
  },
  {
   "cell_type": "code",
   "execution_count": 6,
   "metadata": {},
   "outputs": [
    {
     "name": "stdout",
     "output_type": "stream",
     "text": [
      "Jumlah fitur yang memiliki missing data: 51 dari 74\n",
      "CURRENT_N               0.058847\n",
      "POWER_FACTOR_L1         0.058847\n",
      "POWER_FACTOR_L2         0.058847\n",
      "POWER_FACTOR_L3         0.058847\n",
      "ACTIVE_POWER_L1         0.058847\n",
      "ACTIVE_POWER_L2         0.058847\n",
      "ACTIVE_POWER_L3         0.058847\n",
      "REACTIVE_POWER_L1       0.058847\n",
      "REACTIVE_POWER_L2       0.058847\n",
      "REACTIVE_POWER_L3       0.058847\n",
      "APPARENT_POWER_L1       0.058847\n",
      "APPARENT_POWER_L2       0.058847\n",
      "APPARENT_POWER_L3       0.058847\n",
      "APPARENT_POWER_TOTAL    0.058847\n",
      "KWH_EXPORT_L1           0.058847\n",
      "KWH_EXPORT_L2           0.058847\n",
      "KWH_EXPORT_L3           0.058847\n",
      "KWH_IMPORT_L1           0.058847\n",
      "KWH_IMPORT_L2           0.058847\n",
      "KWH_IMPORT_L3           0.058847\n",
      "KVARH_EXPORT_L1         0.058847\n",
      "KVARH_EXPORT_L2         0.058847\n",
      "KVARH_EXPORT_L3         0.058847\n",
      "KVARH_IMPORT_L1         0.058847\n",
      "KVARH_IMPORT_L2         0.058847\n",
      "KVARH_IMPORT_L3         0.058847\n",
      "KVAH_EXPORT_L1          0.058847\n",
      "KVAH_EXPORT_L2          0.058847\n",
      "KVAH_EXPORT_L3          0.058847\n",
      "KVAH_EXPORT_TOTAL       0.058847\n",
      "KVAH_IMPORT_L1          0.058847\n",
      "KVAH_IMPORT_L2          0.058847\n",
      "KVAH_IMPORT_L3          0.058847\n",
      "KVAH_IMPORT_TOTAL       0.058847\n",
      "FREQUENCY               1.000000\n",
      "THD_VOLTAGE_L1          0.058847\n",
      "THD_VOLTAGE_L2          0.058847\n",
      "THD_VOLTAGE_L3          0.058847\n",
      "THD_VOLTAGE_TOTAL       0.058847\n",
      "THD_CURRENT_L1          0.058847\n",
      "THD_CURRENT_L2          0.058847\n",
      "THD_CURRENT_L3          0.058847\n",
      "THD_CURRENT_TOTAL       0.058847\n",
      "TDD_L1                  0.058847\n",
      "TDD_L2                  0.058847\n",
      "TDD_L3                  0.058847\n",
      "TDD_TOTAL               0.058847\n",
      "UPDATE_BY               1.000000\n",
      "UPDATE_DATE             1.000000\n",
      "SUSPECT                 0.998756\n",
      "PROCESS_ID              0.001656\n",
      "dtype: float64\n"
     ]
    }
   ],
   "source": [
    "missing_data = df_4.isnull().sum()\n",
    "missing_data = missing_data[missing_data > 0]\n",
    "print('Jumlah fitur yang memiliki missing data:', len(missing_data), 'dari', len(df_4.columns))\n",
    "print(missing_data / len(df_4))\n"
   ]
  },
  {
   "cell_type": "code",
   "execution_count": 7,
   "metadata": {},
   "outputs": [
    {
     "name": "stdout",
     "output_type": "stream",
     "text": [
      "Jumlah fitur yang memiliki missing data: 51 dari 74\n",
      "CURRENT_N               0.062337\n",
      "POWER_FACTOR_L1         0.062337\n",
      "POWER_FACTOR_L2         0.062337\n",
      "POWER_FACTOR_L3         0.062337\n",
      "ACTIVE_POWER_L1         0.062337\n",
      "ACTIVE_POWER_L2         0.062337\n",
      "ACTIVE_POWER_L3         0.062337\n",
      "REACTIVE_POWER_L1       0.062337\n",
      "REACTIVE_POWER_L2       0.062337\n",
      "REACTIVE_POWER_L3       0.062337\n",
      "APPARENT_POWER_L1       0.062337\n",
      "APPARENT_POWER_L2       0.062337\n",
      "APPARENT_POWER_L3       0.062337\n",
      "APPARENT_POWER_TOTAL    0.062337\n",
      "KWH_EXPORT_L1           0.062337\n",
      "KWH_EXPORT_L2           0.062337\n",
      "KWH_EXPORT_L3           0.062337\n",
      "KWH_IMPORT_L1           0.062337\n",
      "KWH_IMPORT_L2           0.062337\n",
      "KWH_IMPORT_L3           0.062337\n",
      "KVARH_EXPORT_L1         0.062337\n",
      "KVARH_EXPORT_L2         0.062337\n",
      "KVARH_EXPORT_L3         0.062337\n",
      "KVARH_IMPORT_L1         0.062337\n",
      "KVARH_IMPORT_L2         0.062337\n",
      "KVARH_IMPORT_L3         0.062337\n",
      "KVAH_EXPORT_L1          0.062337\n",
      "KVAH_EXPORT_L2          0.062337\n",
      "KVAH_EXPORT_L3          0.062337\n",
      "KVAH_EXPORT_TOTAL       0.062337\n",
      "KVAH_IMPORT_L1          0.062337\n",
      "KVAH_IMPORT_L2          0.062337\n",
      "KVAH_IMPORT_L3          0.062337\n",
      "KVAH_IMPORT_TOTAL       0.062337\n",
      "FREQUENCY               1.000000\n",
      "THD_VOLTAGE_L1          0.062337\n",
      "THD_VOLTAGE_L2          0.062337\n",
      "THD_VOLTAGE_L3          0.062337\n",
      "THD_VOLTAGE_TOTAL       0.062337\n",
      "THD_CURRENT_L1          0.062337\n",
      "THD_CURRENT_L2          0.062337\n",
      "THD_CURRENT_L3          0.062337\n",
      "THD_CURRENT_TOTAL       0.062337\n",
      "TDD_L1                  0.062337\n",
      "TDD_L2                  0.062337\n",
      "TDD_L3                  0.062337\n",
      "TDD_TOTAL               0.062337\n",
      "UPDATE_BY               1.000000\n",
      "UPDATE_DATE             1.000000\n",
      "SUSPECT                 0.998352\n",
      "PROCESS_ID              0.001321\n",
      "dtype: float64\n"
     ]
    }
   ],
   "source": [
    "missing_data = df_5.isnull().sum()\n",
    "missing_data = missing_data[missing_data > 0]\n",
    "print('Jumlah fitur yang memiliki missing data:', len(missing_data), 'dari', len(df_5.columns))\n",
    "print(missing_data / len(df_5))\n"
   ]
  },
  {
   "cell_type": "code",
   "execution_count": 8,
   "metadata": {},
   "outputs": [
    {
     "data": {
      "text/plain": [
       "count    155206.0\n",
       "mean          0.0\n",
       "std           0.0\n",
       "min           0.0\n",
       "25%           0.0\n",
       "50%           0.0\n",
       "75%           0.0\n",
       "max           0.0\n",
       "Name: CURRENT_N, dtype: float64"
      ]
     },
     "execution_count": 8,
     "metadata": {},
     "output_type": "execute_result"
    }
   ],
   "source": [
    "df_1['CURRENT_N'].describe()"
   ]
  },
  {
   "cell_type": "markdown",
   "metadata": {},
   "source": [
    "Kebanyakan data yang kosong hanya bernilai 0, ada juga data yang bernilai 0-1 dimana belum terdapat representasi apapun dari hal tersebut. Bisa kita sisihkan terlebih dahulu"
   ]
  },
  {
   "cell_type": "code",
   "execution_count": 9,
   "metadata": {},
   "outputs": [
    {
     "data": {
      "text/plain": [
       "Tanggal    0.0\n",
       "Tavg       0.0\n",
       "RH_avg     0.0\n",
       "RR         0.0\n",
       "ss         0.0\n",
       "dtype: float64"
      ]
     },
     "execution_count": 9,
     "metadata": {},
     "output_type": "execute_result"
    }
   ],
   "source": [
    "df_6.isnull().sum() / len(df_6) * 100"
   ]
  },
  {
   "cell_type": "code",
   "execution_count": 10,
   "metadata": {},
   "outputs": [
    {
     "name": "stdout",
     "output_type": "stream",
     "text": [
      "Fitur yang tidak memiliki missing data: 23\n",
      "Index(['ID', 'REF_NUMBER', 'LOCATION_CODE', 'SITE_CODE', 'METER_CODE',\n",
      "       'PERIODE', 'READ_DATE', 'VOLTAGE_L1', 'VOLTAGE_L2', 'VOLTAGE_L3',\n",
      "       'CURRENT_L1', 'CURRENT_L2', 'CURRENT_L3', 'POWER_FACTOR_TOTAL',\n",
      "       'ACTIVE_POWER_TOTAL', 'REACTIVE_POWER_TOTAL', 'KWH_EXPORT_TOTAL',\n",
      "       'KWH_IMPORT_TOTAL', 'KVARH_EXPORT_TOTAL', 'KVARH_IMPORT_TOTAL',\n",
      "       'INSERT_BY', 'INSERT_DATE', 'DATE_READ'],\n",
      "      dtype='object')\n"
     ]
    }
   ],
   "source": [
    "# kolom yang tidak memiliki missing data\n",
    "print('Fitur yang tidak memiliki missing data:', len(df_1.columns) - len(missing_data))\n",
    "print(df_1.columns[df_1.isnull().sum() == 0])\n"
   ]
  },
  {
   "cell_type": "code",
   "execution_count": 11,
   "metadata": {},
   "outputs": [
    {
     "data": {
      "text/plain": [
       "count    166102.000000\n",
       "mean         -0.694480\n",
       "std           0.198075\n",
       "min          -0.999756\n",
       "25%          -0.791016\n",
       "50%          -0.725098\n",
       "75%          -0.648193\n",
       "max           0.988770\n",
       "Name: POWER_FACTOR_TOTAL, dtype: float64"
      ]
     },
     "execution_count": 11,
     "metadata": {},
     "output_type": "execute_result"
    }
   ],
   "source": [
    "df_1['POWER_FACTOR_TOTAL'].describe()"
   ]
  },
  {
   "cell_type": "markdown",
   "metadata": {},
   "source": [
    "Fitur Dataset Load Profile AMR yang akan digunakan (thesis based)\n",
    "\n",
    "| Fitur tesis | Fitur di dataset | \n",
    "|-------------|------------------|\n",
    "| IDPEL | SITE_CODE / METER_CODE (?) |\n",
    "| Record No | ID / REF_NUMBER (?) |\n",
    "| Date/Time | READ_DATE |\n",
    "| Exp Wh Total | KWH_EXPORT_TOTAL |\n",
    "| Imp Wh Total | KWH_IMPORT_TOTAL |\n",
    "| Exp varh Total | KVARH_EXPORT_TOTAL |\n",
    "| Imp varh Total | KVARH_IMPORT_TOTAL |\n",
    "| Voltage Ph-A Avg | VOLTAGE_L1 |\n",
    "| Voltage Ph-B Avg | VOLTAGE_L2 |\n",
    "| Voltage Ph-C Avg | VOLTAGE_L3 |\n",
    "| Current Ph-A Avg | CURRENT_L1 |\n",
    "| Current Ph-B Avg | CURRENT_L2 |\n",
    "| Current Ph-C Avg | CURRENT_L3 |\n",
    "| Power Factor Total Avg | POWER_FACTOR_TOTAL |\n",
    "| Watt Total Avg | REACTIVE_POWER_TOTAL |\n",
    "| var Total Avg  | ACTIVE_POWER_TOTAL |"
   ]
  },
  {
   "cell_type": "code",
   "execution_count": 12,
   "metadata": {},
   "outputs": [
    {
     "data": {
      "text/html": [
       "<div>\n",
       "<style scoped>\n",
       "    .dataframe tbody tr th:only-of-type {\n",
       "        vertical-align: middle;\n",
       "    }\n",
       "\n",
       "    .dataframe tbody tr th {\n",
       "        vertical-align: top;\n",
       "    }\n",
       "\n",
       "    .dataframe thead th {\n",
       "        text-align: right;\n",
       "    }\n",
       "</style>\n",
       "<table border=\"1\" class=\"dataframe\">\n",
       "  <thead>\n",
       "    <tr style=\"text-align: right;\">\n",
       "      <th></th>\n",
       "      <th>Tanggal</th>\n",
       "      <th>Tavg</th>\n",
       "      <th>RH_avg</th>\n",
       "      <th>RR</th>\n",
       "      <th>ss</th>\n",
       "    </tr>\n",
       "  </thead>\n",
       "  <tbody>\n",
       "    <tr>\n",
       "      <th>0</th>\n",
       "      <td>2019-01-01 00:00:00</td>\n",
       "      <td>25.7</td>\n",
       "      <td>96</td>\n",
       "      <td>12.9</td>\n",
       "      <td>7.5</td>\n",
       "    </tr>\n",
       "    <tr>\n",
       "      <th>1</th>\n",
       "      <td>2019-01-02 00:00:00</td>\n",
       "      <td>25.9</td>\n",
       "      <td>90</td>\n",
       "      <td>42.7</td>\n",
       "      <td>6.7</td>\n",
       "    </tr>\n",
       "    <tr>\n",
       "      <th>2</th>\n",
       "      <td>2019-01-03 00:00:00</td>\n",
       "      <td>24.9</td>\n",
       "      <td>94</td>\n",
       "      <td>0.5</td>\n",
       "      <td>0.1</td>\n",
       "    </tr>\n",
       "    <tr>\n",
       "      <th>3</th>\n",
       "      <td>2019-01-04 00:00:00</td>\n",
       "      <td>25.8</td>\n",
       "      <td>88</td>\n",
       "      <td>34.6</td>\n",
       "      <td>0.1</td>\n",
       "    </tr>\n",
       "    <tr>\n",
       "      <th>4</th>\n",
       "      <td>2019-01-05 00:00:00</td>\n",
       "      <td>26.7</td>\n",
       "      <td>88</td>\n",
       "      <td>2.1</td>\n",
       "      <td>3.2</td>\n",
       "    </tr>\n",
       "    <tr>\n",
       "      <th>...</th>\n",
       "      <td>...</td>\n",
       "      <td>...</td>\n",
       "      <td>...</td>\n",
       "      <td>...</td>\n",
       "      <td>...</td>\n",
       "    </tr>\n",
       "    <tr>\n",
       "      <th>360</th>\n",
       "      <td>27-12-2019</td>\n",
       "      <td>28.5</td>\n",
       "      <td>78</td>\n",
       "      <td>8888.0</td>\n",
       "      <td>7.6</td>\n",
       "    </tr>\n",
       "    <tr>\n",
       "      <th>361</th>\n",
       "      <td>28-12-2019</td>\n",
       "      <td>29.4</td>\n",
       "      <td>78</td>\n",
       "      <td>8.5</td>\n",
       "      <td>9.8</td>\n",
       "    </tr>\n",
       "    <tr>\n",
       "      <th>362</th>\n",
       "      <td>29-12-2019</td>\n",
       "      <td>27.4</td>\n",
       "      <td>86</td>\n",
       "      <td>0.0</td>\n",
       "      <td>10.5</td>\n",
       "    </tr>\n",
       "    <tr>\n",
       "      <th>363</th>\n",
       "      <td>30-12-2019</td>\n",
       "      <td>27.8</td>\n",
       "      <td>82</td>\n",
       "      <td>1.3</td>\n",
       "      <td>5.8</td>\n",
       "    </tr>\n",
       "    <tr>\n",
       "      <th>364</th>\n",
       "      <td>31-12-2019</td>\n",
       "      <td>27.7</td>\n",
       "      <td>82</td>\n",
       "      <td>8888.0</td>\n",
       "      <td>6.9</td>\n",
       "    </tr>\n",
       "  </tbody>\n",
       "</table>\n",
       "<p>365 rows × 5 columns</p>\n",
       "</div>"
      ],
      "text/plain": [
       "                 Tanggal  Tavg  RH_avg      RR    ss\n",
       "0    2019-01-01 00:00:00  25.7      96    12.9   7.5\n",
       "1    2019-01-02 00:00:00  25.9      90    42.7   6.7\n",
       "2    2019-01-03 00:00:00  24.9      94     0.5   0.1\n",
       "3    2019-01-04 00:00:00  25.8      88    34.6   0.1\n",
       "4    2019-01-05 00:00:00  26.7      88     2.1   3.2\n",
       "..                   ...   ...     ...     ...   ...\n",
       "360           27-12-2019  28.5      78  8888.0   7.6\n",
       "361           28-12-2019  29.4      78     8.5   9.8\n",
       "362           29-12-2019  27.4      86     0.0  10.5\n",
       "363           30-12-2019  27.8      82     1.3   5.8\n",
       "364           31-12-2019  27.7      82  8888.0   6.9\n",
       "\n",
       "[365 rows x 5 columns]"
      ]
     },
     "execution_count": 12,
     "metadata": {},
     "output_type": "execute_result"
    }
   ],
   "source": [
    "df_6"
   ]
  },
  {
   "cell_type": "markdown",
   "metadata": {},
   "source": [
    "### Export Usable Features"
   ]
  },
  {
   "cell_type": "code",
   "execution_count": 19,
   "metadata": {},
   "outputs": [],
   "source": [
    "# hapus kolom yang memiliki missing data\n",
    "df_1.dropna(axis=1, inplace=True)\n",
    "# export data yang tidak memiliki missing data ke csv\n",
    "df_1.to_csv('processed/442100110323_clean.csv', index=False)"
   ]
  }
 ],
 "metadata": {
  "kernelspec": {
   "display_name": "pbl",
   "language": "python",
   "name": "python3"
  },
  "language_info": {
   "codemirror_mode": {
    "name": "ipython",
    "version": 3
   },
   "file_extension": ".py",
   "mimetype": "text/x-python",
   "name": "python",
   "nbconvert_exporter": "python",
   "pygments_lexer": "ipython3",
   "version": "3.12.5"
  }
 },
 "nbformat": 4,
 "nbformat_minor": 2
}
